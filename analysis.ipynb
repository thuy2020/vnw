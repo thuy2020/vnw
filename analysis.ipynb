{
 "cells": [
  {
   "cell_type": "code",
   "id": "initial_id",
   "metadata": {
    "collapsed": true,
    "ExecuteTime": {
     "end_time": "2025-07-29T18:56:21.428025Z",
     "start_time": "2025-07-29T18:56:21.193542Z"
    }
   },
   "source": [
    "import os\n",
    "import json\n",
    "import re\n",
    "import pandas as pd\n",
    "import seaborn as sns\n",
    "\n",
    "from geopy.geocoders import Nominatim\n",
    "from geopy.extra.rate_limiter import RateLimiter\n",
    "import folium\n",
    "import matplotlib.pyplot as plt\n",
    "import sys\n",
    "sys.path.append('./people')\n",
    "\n",
    "import importlib\n",
    "from people import resume_parser\n",
    "import resume_parser\n",
    "importlib.reload(resume_parser)\n",
    "from resume_parser import parse_resume_text\n",
    "plt.rcParams['figure.facecolor'] = 'white'  # Background of the whole figure\n",
    "plt.rcParams['axes.facecolor'] = 'white'    # Background of the plot area\n"
   ],
   "execution_count": 1,
   "outputs": []
  },
  {
   "metadata": {
    "ExecuteTime": {
     "end_time": "2025-07-29T18:56:23.294636Z",
     "start_time": "2025-07-29T18:56:23.262771Z"
    }
   },
   "cell_type": "code",
   "source": [
    "with open(\"gov_individuals.json\", \"r\", encoding=\"utf-8\") as f:\n",
    "    data = json.load(f)\n",
    "    \n",
    "df = pd.DataFrame(data)\n",
    "print(df.shape)\n",
    "print(df.head())"
   ],
   "id": "7745a75788a66444",
   "execution_count": 2,
   "outputs": []
  },
  {
   "metadata": {
    "ExecuteTime": {
     "end_time": "2025-07-29T18:56:24.998373Z",
     "start_time": "2025-07-29T18:56:24.633405Z"
    }
   },
   "cell_type": "code",
   "source": [
    "\n",
    "# Extract cabinet year range into a new column\n",
    "import re\n",
    "def extract_year_range(text):\n",
    "    match = re.search(r'(\\d{4})\\s*-\\s*(\\d{4})', text)\n",
    "    if match:\n",
    "        return int(match.group(1)), int(match.group(2))\n",
    "    return None, None\n",
    "\n",
    "df[[\"cabinet_start_year\", \"cabinet_end_year\"]] = df[\"cabinet\"].apply(\n",
    "    lambda x: pd.Series(extract_year_range(x)) if pd.notnull(x) else pd.Series([None, None])\n",
    ")\n",
    "\n",
    "# Count number of members in each cabinet start year\n",
    "cabinet_counts = df[\"cabinet_start_year\"].value_counts().sort_index()\n",
    "\n",
    "# Plot\n",
    "plt.figure(figsize=(12, 6))\n",
    "sns.barplot(x=cabinet_counts.index.astype(int), y=cabinet_counts.values, color=\"skyblue\")\n",
    "plt.title(\"Number of Government Members by Cabinet Start Year\")\n",
    "plt.xlabel(\"Cabinet Start Year\")\n",
    "plt.ylabel(\"Number of Members\")\n",
    "plt.xticks(rotation=45)\n",
    "plt.tight_layout()\n",
    "plt.show()"
   ],
   "id": "7741cce8b3a392fd",
   "execution_count": 3,
   "outputs": []
  },
  {
   "metadata": {
    "ExecuteTime": {
     "end_time": "2025-07-29T18:56:25.984170Z",
     "start_time": "2025-07-29T18:56:25.978365Z"
    }
   },
   "cell_type": "code",
   "source": "",
   "id": "a3dcf8070da5d4e5",
   "execution_count": 3,
   "outputs": []
  },
  {
   "metadata": {
    "ExecuteTime": {
     "end_time": "2025-07-29T18:56:27.358192Z",
     "start_time": "2025-07-29T18:56:27.022029Z"
    }
   },
   "cell_type": "code",
   "source": [
    "# Hometown stats (full dataset)\n",
    "hometown_series = df[\"resume_text\"].apply(lambda text: parse_resume_text(text).get(\"hometown\") if pd.notnull(text) else None)\n",
    "df[\"parsed_hometown\"] = hometown_series\n",
    "\n",
    "# 1. Unique hometowns\n",
    "unique_hometowns = df[\"parsed_hometown\"].dropna().unique()\n",
    "print(\"Number of unique hometowns:\", len(unique_hometowns))\n",
    "\n",
    "# 2. Hometown frequency\n",
    "hometown_counts = df[\"parsed_hometown\"].value_counts()\n",
    "print(\"\\nTop 10 hometowns by frequency:\")\n",
    "print(hometown_counts.head(10))\n",
    "\n",
    "# 3. Total hometown data points (non-null)\n",
    "total_hometowns = df[\"parsed_hometown\"].notnull().sum()\n",
    "print(\"\\nTotal parsed hometown entries:\", total_hometowns)\n",
    "\n",
    "sns.set_style(\"whitegrid\")\n",
    "\n",
    "# Filter rows with resume_text and apply parser\n",
    "df_with_resumes = df[df[\"resume_text\"].notnull()].copy()\n",
    "parsed_data = df_with_resumes[\"resume_text\"].apply(parse_resume_text)\n",
    "parsed_df = pd.json_normalize(parsed_data)\n",
    "df_with_resumes = pd.concat([df_with_resumes.reset_index(drop=True), parsed_df], axis=1)\n",
    "\n",
    "# Simplify 'hometown'\n",
    "df_with_resumes[\"hometown_simplified\"] = df_with_resumes[\"hometown\"].apply(\n",
    "    lambda x: re.sub(r\"(?i)^tỉnh\\s+\", \"\", x.split(\",\")[-1].strip()) if isinstance(x, str) and \",\" in x else x)\n",
    "\n",
    "# Top 10 simplified hometowns\n",
    "top_simplified_hometowns = df_with_resumes[\"hometown_simplified\"].value_counts().nlargest(20)\n",
    "\n",
    "# Plot\n",
    "plt.figure(figsize=(10, 6))\n",
    "sns.barplot(x=top_simplified_hometowns.values, y=top_simplified_hometowns.index, palette=\"crest\")\n",
    "plt.title(\"Top 10 Simplified Hometowns (Last Segment)\")\n",
    "plt.xlabel(\"Number of Individuals\")\n",
    "plt.ylabel(\"Simplified Hometown\")\n",
    "plt.tight_layout()\n",
    "plt.show()"
   ],
   "id": "19b5497591ca5378",
   "execution_count": 4,
   "outputs": []
  },
  {
   "metadata": {
    "ExecuteTime": {
     "end_time": "2025-07-29T18:56:28.349118Z",
     "start_time": "2025-07-29T18:56:28.339062Z"
    }
   },
   "cell_type": "code",
   "source": [
    "# Find the resume_text for Nguyễn Thiện Nhân\n",
    "target_name = \"Nguyễn Thiện Nhân\"\n",
    "\n",
    "# Locate the row\n",
    "target_row = df_with_resumes[df_with_resumes[\"name\"] == target_name]\n",
    "\n",
    "# Print raw resume text\n",
    "if not target_row.empty:\n",
    "    print(target_row.iloc[0][\"resume_text\"])\n",
    "else:\n",
    "    print(\"Person not found.\")"
   ],
   "id": "423bd43f0342d955",
   "execution_count": 5,
   "outputs": []
  },
  {
   "metadata": {
    "ExecuteTime": {
     "end_time": "2025-07-29T18:56:29.557435Z",
     "start_time": "2025-07-29T18:56:29.405148Z"
    }
   },
   "cell_type": "code",
   "source": [
    "parsed_data = df_with_resumes[\"resume_text\"].apply(parse_resume_text)\n",
    "parsed_df = pd.json_normalize(parsed_data)\n",
    "\n",
    "# Drop duplicate columns before merge\n",
    "parsed_df = parsed_df.loc[:, ~parsed_df.columns.duplicated()]\n",
    "df_with_resumes = df_with_resumes.reset_index(drop=True)\n",
    "df_with_resumes = df_with_resumes.loc[:, ~df_with_resumes.columns.duplicated()]\n",
    "\n",
    "# Merge parsed data\n",
    "#f_with_resumes = pd.concat([df_with_resumes, parsed_df], axis=1)\n",
    "#df_with_resumes = df_with_resumes.loc[:, ~df_with_resumes.columns.duplicated()]\n",
    "\n",
    "\n",
    "# Filter for education entries\n",
    "df_edu = df_with_resumes[df_with_resumes[\"education\"].notnull()]\n",
    "# View full content of education field for sample individuals\n",
    "pd.set_option(\"display.max_colwidth\", None)\n",
    "print(df_edu[[\"name\", \"education\"]].head(100))\n",
    "\n"
   ],
   "id": "ae0101a48ec305ae",
   "execution_count": 6,
   "outputs": []
  },
  {
   "metadata": {
    "ExecuteTime": {
     "end_time": "2025-07-29T18:56:30.748897Z",
     "start_time": "2025-07-29T18:56:30.616816Z"
    }
   },
   "cell_type": "code",
   "source": [
    "# Plot distribution of education levels\n",
    "education_counts = df_with_resumes[\"education\"].value_counts().sort_values(ascending=False)\n",
    "\n",
    "plt.figure(figsize=(10, 6))\n",
    "sns.barplot(x=education_counts.values, y=education_counts.index, palette=\"viridis\")\n",
    "plt.title(\"Distribution of Education Levels\")\n",
    "plt.xlabel(\"Number of Individuals\")\n",
    "plt.ylabel(\"Education Level\")\n",
    "plt.tight_layout()\n",
    "plt.show()\n",
    "\n"
   ],
   "id": "874f00c14f9a8b14",
   "execution_count": 7,
   "outputs": []
  },
  {
   "metadata": {
    "ExecuteTime": {
     "end_time": "2025-07-29T18:56:31.859348Z",
     "start_time": "2025-07-29T18:56:31.715618Z"
    }
   },
   "cell_type": "code",
   "source": [
    "# Filter for individuals with both cabinet_start_year and education\n",
    "edu_by_cabinet = df_with_resumes[\n",
    "    df_with_resumes[\"cabinet_start_year\"].notnull() & \n",
    "    df_with_resumes[\"education\"].notnull()\n",
    "]\n",
    "\n",
    "# Group by cabinet year and education, count occurrences\n",
    "edu_cabinet_counts = (\n",
    "    edu_by_cabinet.groupby([\"cabinet_start_year\", \"education\"])\n",
    "    .size()\n",
    "    .unstack(fill_value=0)\n",
    ")\n",
    "\n",
    "# Sort by year\n",
    "edu_cabinet_counts = edu_cabinet_counts.sort_index()\n",
    "\n",
    "# Plot\n",
    "plt.figure(figsize=(14, 7))\n",
    "edu_cabinet_counts.plot(kind=\"bar\", stacked=True, colormap=\"tab20\", figsize=(14, 7))\n",
    "plt.title(\"Distribution of Education Levels by Cabinet Start Year\")\n",
    "plt.xlabel(\"Cabinet Start Year\")\n",
    "plt.ylabel(\"Number of Individuals\")\n",
    "plt.xticks(rotation=45)\n",
    "plt.legend(title=\"Education Level\")\n",
    "plt.tight_layout()\n",
    "plt.show()"
   ],
   "id": "694967c067913715",
   "execution_count": 8,
   "outputs": []
  },
  {
   "metadata": {
    "ExecuteTime": {
     "end_time": "2025-07-29T18:56:53.399857Z",
     "start_time": "2025-07-29T18:56:52.172338Z"
    }
   },
   "cell_type": "code",
   "source": [
    "!pip install plotly\n",
    "import plotly.express as px\n",
    "# Prepare data\n",
    "edu_by_hometown = df_with_resumes[\n",
    "    df_with_resumes[\"hometown_simplified\"].notnull() &\n",
    "    df_with_resumes[\"education\"].notnull()\n",
    "]\n",
    "\n",
    "# Limit to top N hometowns by total individuals\n",
    "top_hometowns = (\n",
    "    edu_by_hometown[\"hometown_simplified\"]\n",
    "    .value_counts()\n",
    "    .nlargest(15)\n",
    "    .index\n",
    ")\n",
    "\n",
    "edu_filtered = edu_by_hometown[edu_by_hometown[\"hometown_simplified\"].isin(top_hometowns)]\n",
    "\n",
    "# Group for stacked bar\n",
    "edu_counts_long = (\n",
    "    edu_filtered.groupby([\"hometown_simplified\", \"education\"])\n",
    "    .size()\n",
    "    .reset_index(name=\"count\")\n",
    ")\n",
    "\n",
    "# Create interactive bar chart\n",
    "fig = px.bar(\n",
    "    edu_counts_long,\n",
    "    x=\"count\",\n",
    "    y=\"hometown_simplified\",\n",
    "    color=\"education\",\n",
    "    orientation=\"h\",\n",
    "    title=\"Interactive Chart: Education Level by Hometown\",\n",
    "    labels={\"count\": \"Number of Individuals\", \"hometown_simplified\": \"Hometown\"},\n",
    "    hover_data={\"count\": True, \"education\": True}\n",
    ")\n",
    "\n",
    "fig.update_layout(barmode=\"stack\", yaxis=dict(categoryorder=\"total ascending\"))\n",
    "fig.show()"
   ],
   "id": "dbdb19f63327f4f1",
   "execution_count": 10,
   "outputs": []
  },
  {
   "metadata": {},
   "cell_type": "code",
   "source": [
    "from geopy.geocoders import Nominatim\n",
    "from geopy.extra.rate_limiter import RateLimiter\n",
    "import pandas as pd\n",
    "import folium\n",
    "\n",
    "import geopy.geocoders\n",
    "import geopy.adapters\n",
    "import urllib3\n",
    "\n",
    "\n",
    "# Prepare hometown counts\n",
    "hometown_counts = df_with_resumes[\"hometown_simplified\"].value_counts().reset_index()\n",
    "hometown_counts.columns = [\"hometown\", \"count\"]\n",
    "\n",
    "# Set up geocoder\n",
    "geolocator = Nominatim(user_agent=\"vnw-hometown-mapper\", timeout=10)\n",
    "geocode = RateLimiter(geolocator.geocode, min_delay_seconds=1)\n",
    "\n",
    "# Geocode each hometown safely\n",
    "def safe_geocode(place):\n",
    "    try:\n",
    "        return geocode(f\"{place}, Vietnam\")\n",
    "    except Exception as e:\n",
    "        print(f\"Error geocoding {place}: {e}\")\n",
    "        return None\n",
    "\n",
    "hometown_counts[\"location\"] = hometown_counts[\"hometown\"].apply(safe_geocode)\n",
    "hometown_counts[\"latitude\"] = hometown_counts[\"location\"].apply(lambda loc: loc.latitude if loc else None)\n",
    "hometown_counts[\"longitude\"] = hometown_counts[\"location\"].apply(lambda loc: loc.longitude if loc else None)\n",
    "\n",
    "\n",
    "cache_file = \"geocode_cache.csv\"\n",
    "\n",
    "if os.path.exists(cache_file):\n",
    "    cache_df = pd.read_csv(cache_file)\n",
    "else:\n",
    "    cache_df = pd.DataFrame(columns=[\"hometown\", \"latitude\", \"longitude\"])\n",
    "    \n",
    "cached_coords = {\n",
    "    row[\"hometown\"]: (row[\"latitude\"], row[\"longitude\"])\n",
    "    for _, row in cache_df.iterrows()\n",
    "}\n",
    "\n",
    "from geopy.geocoders import Nominatim\n",
    "from geopy.extra.rate_limiter import RateLimiter\n",
    "\n",
    "geolocator = Nominatim(user_agent=\"vnw-hometown-mapper\", timeout=10)\n",
    "geocode = RateLimiter(geolocator.geocode, min_delay_seconds=1)\n",
    "\n",
    "def get_coords(place):\n",
    "    if place in cached_coords:\n",
    "        return cached_coords[place]\n",
    "    try:\n",
    "        location = geocode(f\"{place}, Vietnam\")\n",
    "        if location:\n",
    "            coords = (location.latitude, location.longitude)\n",
    "            cached_coords[place] = coords\n",
    "            return coords\n",
    "    except Exception as e:\n",
    "        print(f\"Geocoding error for {place}: {e}\")\n",
    "    return (None, None)\n",
    "\n",
    "# Apply to hometowns\n",
    "hometown_counts[\"latitude\"], hometown_counts[\"longitude\"] = zip(*hometown_counts[\"hometown\"].apply(get_coords))\n",
    "\n",
    "\n",
    "# Update and save cache to CSV\n",
    "cache_df = pd.DataFrame([\n",
    "    {\"hometown\": place, \"latitude\": lat, \"longitude\": lon}\n",
    "    for place, (lat, lon) in cached_coords.items()\n",
    "    if lat is not None and lon is not None\n",
    "])\n",
    "cache_df.to_csv(cache_file, index=False)\n",
    "\n",
    "\n",
    "# Drop missing results\n",
    "hometown_geo = hometown_counts.dropna(subset=[\"latitude\", \"longitude\"])\n",
    "\n",
    "# Create map\n",
    "# Create map centered on Vietnam with tighter bounds\n",
    "vietnam_map = folium.Map(location=[16.5, 107.5], zoom_start=6.5, max_bounds=True)\n",
    "\n",
    "# Restrict panning to Vietnam bounds\n",
    "vietnam_map.fit_bounds([[8.2, 102.1], [23.4, 109.5]])\n",
    "\n",
    "for _, row in hometown_geo.iterrows():\n",
    "    folium.CircleMarker(\n",
    "        location=[row[\"latitude\"], row[\"longitude\"]],\n",
    "        radius=row[\"count\"],\n",
    "        popup=f'{row[\"hometown\"]}: {row[\"count\"]} people',\n",
    "        color=\"blue\",\n",
    "        fill=True,\n",
    "        fill_opacity=0.6\n",
    "    ).add_to(vietnam_map)\n",
    "\n",
    "# Save map\n",
    "vietnam_map.save(\"vietnam_hometown_map_vn.html\")"
   ],
   "id": "9e789ab633c12623",
   "execution_count": null,
   "outputs": []
  },
  {
   "metadata": {},
   "cell_type": "code",
   "source": "",
   "id": "a52bb1cb5117d60f",
   "execution_count": null,
   "outputs": []
  },
  {
   "metadata": {
    "ExecuteTime": {
     "end_time": "2025-07-29T12:40:53.490168Z",
     "start_time": "2025-07-29T12:40:53.474333Z"
    }
   },
   "cell_type": "code",
   "source": "",
   "id": "39e38bc4f8073c6d",
   "execution_count": 32,
   "outputs": []
  },
  {
   "metadata": {},
   "cell_type": "code",
   "source": "",
   "id": "3c9cabc63f837544",
   "execution_count": null,
   "outputs": []
  },
  {
   "metadata": {},
   "cell_type": "code",
   "execution_count": null,
   "source": "",
   "id": "9a769eca90ca11be",
   "outputs": []
  }
 ],
 "metadata": {
  "kernelspec": {
   "display_name": "Python 3",
   "language": "python",
   "name": "python3"
  },
  "language_info": {
   "codemirror_mode": {
    "name": "ipython",
    "version": 2
   },
   "file_extension": ".py",
   "mimetype": "text/x-python",
   "name": "python",
   "nbconvert_exporter": "python",
   "pygments_lexer": "ipython2",
   "version": "2.7.6"
  }
 },
 "nbformat": 4,
 "nbformat_minor": 5
}
